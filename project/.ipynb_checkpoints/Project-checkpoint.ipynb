{
 "cells": [
  {
   "cell_type": "code",
   "execution_count": null,
   "metadata": {
    "collapsed": false
   },
   "outputs": [],
   "source": [
    "import numpy as np \n",
    "import matplotlib.pyplot as plt\n",
    "import math\n",
    "import plotly\n",
    "#from plotly import __version__\n",
    "py=plotly.offline\n",
    "go =plotly.graph_objs\n",
    "plotly.offline.init_notebook_mode()\n",
    "\n",
    "def histogram(data,title,dataName):\n",
    "    trace= []\n",
    "    for i in range(0,len(data)):\n",
    "        histo = go.Histogram(\n",
    "            x=data[i],\n",
    "            #histnorm='probability',\n",
    "            opacity=0.5\n",
    "        )\n",
    "        trace.append(histo)\n",
    "    layout = go.Layout(\n",
    "    title=title,\n",
    "    xaxis=dict(\n",
    "        title=dataName\n",
    "    ),\n",
    "    yaxis=dict(\n",
    "        title='Count'\n",
    "    ),\n",
    "    barmode='stack',\n",
    "    bargap=0.25,\n",
    "    bargroupgap=0.3\n",
    "    )\n",
    "    fig = go.Figure(data=trace, layout=layout)\n",
    "    #py.plot(fig, filename='histogram/histogramIsBooking'+data_name+'Histogram.html')\n",
    "    py.iplot(fig)\n",
    "    \n",
    "def scatter(X_name,Y,Y_name,title,X=0,histo=0):\n",
    "    if X == 0 :\n",
    "        X = [ x for x in range(0,len(Y[0]))];\n",
    "    data = []\n",
    "    for i in range(0,len(Y)):\n",
    "        data.append(go.Scatter(\n",
    "        x=X,\n",
    "        y=Y[i],\n",
    "        mode = 'lines',\n",
    "        name = Y_name[i]\n",
    "    ))\n",
    "    layout = go.Layout(\n",
    "        title=title,\n",
    "        xaxis=dict(\n",
    "            title=X_name,\n",
    "            titlefont=dict(\n",
    "                family='Courier New, monospace',\n",
    "                size=18,\n",
    "                color='#7f7f7f'\n",
    "            )\n",
    "        ),\n",
    "        yaxis=dict(\n",
    "            title='value',\n",
    "            titlefont=dict(\n",
    "                family='Courier New, monospace',\n",
    "                size=18,\n",
    "                color='#7f7f7f'\n",
    "            )\n",
    "        )\n",
    "    )\n",
    "    \n",
    "    fig = go.Figure(data=data, layout=layout)\n",
    "    py.iplot(fig)\n",
    "    py.plot(fig, filename='./test.html')"
   ]
  },
  {
   "cell_type": "code",
   "execution_count": null,
   "metadata": {
    "collapsed": true
   },
   "outputs": [],
   "source": [
    "def f(x):\n",
    "    if x<math.log(20):\n",
    "        return 10*math.exp(x)\n",
    "    else:\n",
    "        return 400/(1+400*math.exp(-2*x))"
   ]
  },
  {
   "cell_type": "code",
   "execution_count": null,
   "metadata": {
    "collapsed": true
   },
   "outputs": [],
   "source": [
    "def Erlang(delta, numberOfTrials,nu,c,sigma,numOfExamples):\n",
    "    Vexamples=[]\n",
    "    Uexamples=[]\n",
    "    Zexamples=[]\n",
    "    Zbarexamples=[]\n",
    "    for k in range(numOfExamples):\n",
    "        V=[]\n",
    "        V.append(1)\n",
    "        U=[]\n",
    "        U.append(0)\n",
    "        Z=[]\n",
    "        Z.append(-nu*V[0]+U[0])\n",
    "        for i in range(1,numberOfTrials):\n",
    "            V.append(V[i-1] +delta*(-nu*V[i-1] + U[i-1]))\n",
    "            U.append(U[i-1] + delta*(-nu*U[i-1] + c*f(V[i-1])) + sigma*math.sqrt(f(V[i-1]))*np.random.normal(0,(math.sqrt(delta))))\n",
    "            Z.append(-nu*V[i]+U[i])\n",
    "        Zbar=[]\n",
    "        for i in range(numberOfTrials-1):\n",
    "            Zbar.append((V[i+1]-V[i])/delta)\n",
    "        Vexamples.append(V)\n",
    "        Uexamples.append(U)\n",
    "        Zexamples.append(Z)\n",
    "        Zbarexamples.append(Zbar)\n",
    "    scatter(\"time\",Vexamples,[str(i) for i in range(numOfExamples)],\"V\")\n",
    "    scatter(\"time\",Uexamples,[ str(i) for i in range(numOfExamples)],\"U\")\n",
    "    return Uexamples,Vexamples,Zexamples,Zbarexamples\n",
    "    \n",
    "#     alpha = V0 + tau*I;\n",
    "#     VIname=[]\n",
    "#     Xlist=[]\n",
    "#     spikeDistribList = []\n",
    "#     for j in range(0,len(VI)):\n",
    "#         X=[V0];\n",
    "#         spikeDistrib = [0]\n",
    "#         spikingTime = 0\n",
    "#         spikes = []\n",
    "#         VIname.append(\"VI = \"+str(VI[j]));\n",
    "#         for i in range(1,numberOfTrials):\n",
    "#             Xi = X[i-1] + ((-X[i-1] + alpha)/tau)*delta + sigma*math.sqrt(X[i-1] - VI[j])*np.random.normal(0,delta)\n",
    "#             if Xi > S :\n",
    "#                 X.append(V0);\n",
    "#                 spikes.append(spikingTime)\n",
    "#                 spikeDistrib.append( spikingTime-spikeDistrib[-1])\n",
    "#             else:\n",
    "#                 X.append(Xi);\n",
    "#                 spikingTime +=1 ;\n",
    "#         Xlist.append(X);\n",
    "#         spikeDistribList.append(spikeDistrib);\n",
    "            \n",
    "#     scatter(\"time\",Xlist,VIname,\"Euler scheme : Feller process \")    \n",
    "#     histogram(spikeDistribList,'Spike Distribution','time')\n",
    "#     return X"
   ]
  },
  {
   "cell_type": "code",
   "execution_count": null,
   "metadata": {
    "collapsed": false
   },
   "outputs": [],
   "source": [
    "Uexamples,Vexamples,Zexamples,Zbarexamples = Erlang(0.0001,100000,3,5,1,5)"
   ]
  },
  {
   "cell_type": "code",
   "execution_count": null,
   "metadata": {
    "collapsed": true
   },
   "outputs": [],
   "source": [
    "from scipy.optimize import minimize"
   ]
  },
  {
   "cell_type": "code",
   "execution_count": null,
   "metadata": {
    "collapsed": true
   },
   "outputs": [],
   "source": [
    "U=Uexamples[0]\n",
    "V=Vexamples[0]\n",
    "Z=Zexamples[0]\n",
    "Zbar=Zbarexamples[0]"
   ]
  },
  {
   "cell_type": "code",
   "execution_count": null,
   "metadata": {
    "collapsed": true
   },
   "outputs": [],
   "source": [
    "def funMinimize(theta,delta=0.0001):\n",
    "    nu,c,sigma = theta[0],theta[1],theta[2]\n",
    "    B=[]\n",
    "    for i in range(len(U)):\n",
    "        B.append(-2*nu*Z[i]-nu**2*V[i]+c*f(V[i]))\n",
    "    X=0\n",
    "    for i in range(len(Z)-1):\n",
    "        a = math.sqrt(f(V[i]))*sigma\n",
    "        X += ((Z[i+1]-Z[i]-delta*B[i])**2)/(delta*a**2) + math.log(a**2)\n",
    "    return X"
   ]
  },
  {
   "cell_type": "code",
   "execution_count": null,
   "metadata": {
    "collapsed": false
   },
   "outputs": [],
   "source": [
    "theta=[0.7,0.4,0.5]\n",
    "funMinimize(theta)"
   ]
  },
  {
   "cell_type": "code",
   "execution_count": null,
   "metadata": {
    "collapsed": false
   },
   "outputs": [],
   "source": [
    "optim = minimize(funMinimize,theta,options={'maxiter':100})"
   ]
  },
  {
   "cell_type": "code",
   "execution_count": null,
   "metadata": {
    "collapsed": false
   },
   "outputs": [],
   "source": [
    "optim"
   ]
  },
  {
   "cell_type": "code",
   "execution_count": null,
   "metadata": {
    "collapsed": true
   },
   "outputs": [],
   "source": [
    "def funMinimize2(theta,delta=0.0001):\n",
    "    nu,c,sigma = theta[0],theta[1],theta[2]\n",
    "    B=[]\n",
    "    for i in range(len(Zbar)):\n",
    "        B.append(-2*nu*Zbar[i]-nu**2*V[i]+c*f(V[i]))\n",
    "    X=0\n",
    "    for i in range(1,len(Zbar)-2):\n",
    "        a = math.sqrt(f(V[i-1]))*sigma \n",
    "        X+= 3/2*(Zbar[i+1]-Zbar[i] -delta*B[i-1])**2/(delta*a**2) + math.log(a**2)\n",
    "    return X"
   ]
  },
  {
   "cell_type": "code",
   "execution_count": null,
   "metadata": {
    "collapsed": false
   },
   "outputs": [],
   "source": [
    "funMinimize2(theta)"
   ]
  },
  {
   "cell_type": "code",
   "execution_count": null,
   "metadata": {
    "collapsed": true
   },
   "outputs": [],
   "source": [
    "optim2 = minimize(funMinimize2,theta,options={'maxiter':100})"
   ]
  },
  {
   "cell_type": "code",
   "execution_count": null,
   "metadata": {
    "collapsed": false
   },
   "outputs": [],
   "source": [
    "optim2"
   ]
  },
  {
   "cell_type": "code",
   "execution_count": null,
   "metadata": {
    "collapsed": false
   },
   "outputs": [],
   "source": [
    "Ztest=[]\n",
    "for i in range(len(Zbar)):\n",
    "    Ztest.append(Zbar[i]+3.0*V[i]-U[i])\n",
    "scatter(\"time\",[Ztest],[[\"1\"]],\"diff\")"
   ]
  }
 ],
 "metadata": {
  "kernelspec": {
   "display_name": "Python 3",
   "language": "python",
   "name": "python3"
  },
  "language_info": {
   "codemirror_mode": {
    "name": "ipython",
    "version": 3
   },
   "file_extension": ".py",
   "mimetype": "text/x-python",
   "name": "python",
   "nbconvert_exporter": "python",
   "pygments_lexer": "ipython3",
   "version": "3.5.2"
  }
 },
 "nbformat": 4,
 "nbformat_minor": 2
}
